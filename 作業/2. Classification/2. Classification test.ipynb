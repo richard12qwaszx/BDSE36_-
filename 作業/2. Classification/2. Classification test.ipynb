{
 "cells": [
  {
   "cell_type": "markdown",
   "metadata": {},
   "source": [
    "# Purpose\n",
    "研究婚外情的數據\n",
    "\n",
    "(1) 該位外遇的可能性有多大？ \n",
    "(2) 影響外遇的原因是什麼？ \n",
    "(3) 可以根據分析結果說明如何降低外遇的發生嗎？"
   ]
  },
  {
   "cell_type": "markdown",
   "metadata": {},
   "source": [
    "# 數據說明"
   ]
  },
  {
   "cell_type": "markdown",
   "metadata": {},
   "source": [
    "* 婚外情數據即著名的“Fair’s Affairs”，取自於1969年《今日心理》（Psychology Today）所做的一個代表性調查\n",
    "* 該數據從601個參與者身上收集了9個變量\n",
    "* 變數包括一年來婚外情的頻率以及參與者性別、年齡、婚齡、是否有小孩、宗教信仰程度、學歷、職業，還有對婚姻的自我評分"
   ]
  },
  {
   "cell_type": "markdown",
   "metadata": {},
   "source": [
    "#### affairs 受訪者在過去一年中進行外遇的頻率         \n",
    "0 = 無         \n",
    "1 = 一次       \n",
    "2 = 兩次         \n",
    "3 = 三倍         \n",
    "7 = 4 - 10 次         \n",
    "12 = 每月或更多         \n",
    "\n",
    "#### gender          \n",
    "0 = 女性         \n",
    "1 = 男性         \n",
    "\n",
    "#### age         \n",
    "17.5 = 20 歲以下         \n",
    "22.0 = 20 - 24         \n",
    "27.0 = 25 - 29         \n",
    "32.0 = 30 - 34         \n",
    "37.0 = 35 - 39         \n",
    "42.0 = 40 - 44         \n",
    "47.0 = 45 - 49         \n",
    "52.0 = 50 - 54         \n",
    "57.0 = 55 或以上         \n",
    "\n",
    "#### yearsmarried  婚姻時間                  \n",
    "0.125 = 3 個月或更短         \n",
    "0.417 = 4 - 6 個月         \n",
    "0.750 = 6 個月 - 1 年         \n",
    "1.500 = 1 - 2 年         \n",
    "4.000 = 3 - 5 年         \n",
    "7.000 = 6 - 8 年         \n",
    "10.00 = 9 - 11 年         \n",
    "15.00 = 12 年或更長時間         \n",
    "\n",
    "#### children 孩子人數                  \n",
    "0 = 無         \n",
    "1 = 一個或多個         \n",
    "         \n",
    "#### religiousness 婚內的宗教信仰         \n",
    "1 = 反宗教         \n",
    "2 = 完全沒有         \n",
    "3 = 輕微         \n",
    "4 = 有點         \n",
    "5 = 非常         \n",
    "\n",
    "#### education 教育程度         \n",
    "9.0 = 小學         \n",
    "12.0 = 高中畢業         \n",
    "14.0 = 一些大學         \n",
    "16.0 = 大學畢業生         \n",
    "17.0 = 一些畢業作品         \n",
    "18.0 = 碩士學位         \n",
    "20.0 = 博士、醫學博士或其他高級學位 \n",
    "\n",
    "#### occupation 詳見data-descriptions.pdf\n",
    "\n",
    "#### rating 對婚姻的自我評分 (5分制，1表示非常不幸福，5表示非常幸福）         "
   ]
  },
  {
   "cell_type": "markdown",
   "metadata": {},
   "source": [
    "# 1. import data"
   ]
  },
  {
   "cell_type": "code",
   "execution_count": 6,
   "metadata": {},
   "outputs": [],
   "source": [
    "import warnings\n",
    "warnings.filterwarnings(\"ignore\")\n",
    "\n",
    "import pandas as pd"
   ]
  },
  {
   "cell_type": "code",
   "execution_count": 3,
   "metadata": {},
   "outputs": [
    {
     "data": {
      "text/html": [
       "<div>\n",
       "<style scoped>\n",
       "    .dataframe tbody tr th:only-of-type {\n",
       "        vertical-align: middle;\n",
       "    }\n",
       "\n",
       "    .dataframe tbody tr th {\n",
       "        vertical-align: top;\n",
       "    }\n",
       "\n",
       "    .dataframe thead th {\n",
       "        text-align: right;\n",
       "    }\n",
       "</style>\n",
       "<table border=\"1\" class=\"dataframe\">\n",
       "  <thead>\n",
       "    <tr style=\"text-align: right;\">\n",
       "      <th></th>\n",
       "      <th>affairs</th>\n",
       "      <th>gender</th>\n",
       "      <th>age</th>\n",
       "      <th>yearsmarried</th>\n",
       "      <th>children</th>\n",
       "      <th>religiousness</th>\n",
       "      <th>education</th>\n",
       "      <th>occupation</th>\n",
       "      <th>rating</th>\n",
       "    </tr>\n",
       "  </thead>\n",
       "  <tbody>\n",
       "    <tr>\n",
       "      <th>0</th>\n",
       "      <td>0</td>\n",
       "      <td>male</td>\n",
       "      <td>37.0</td>\n",
       "      <td>10.00</td>\n",
       "      <td>no</td>\n",
       "      <td>3</td>\n",
       "      <td>18</td>\n",
       "      <td>7</td>\n",
       "      <td>4</td>\n",
       "    </tr>\n",
       "    <tr>\n",
       "      <th>1</th>\n",
       "      <td>0</td>\n",
       "      <td>female</td>\n",
       "      <td>27.0</td>\n",
       "      <td>4.00</td>\n",
       "      <td>no</td>\n",
       "      <td>4</td>\n",
       "      <td>14</td>\n",
       "      <td>6</td>\n",
       "      <td>4</td>\n",
       "    </tr>\n",
       "    <tr>\n",
       "      <th>2</th>\n",
       "      <td>0</td>\n",
       "      <td>female</td>\n",
       "      <td>32.0</td>\n",
       "      <td>15.00</td>\n",
       "      <td>yes</td>\n",
       "      <td>1</td>\n",
       "      <td>12</td>\n",
       "      <td>1</td>\n",
       "      <td>4</td>\n",
       "    </tr>\n",
       "    <tr>\n",
       "      <th>3</th>\n",
       "      <td>0</td>\n",
       "      <td>male</td>\n",
       "      <td>57.0</td>\n",
       "      <td>15.00</td>\n",
       "      <td>yes</td>\n",
       "      <td>5</td>\n",
       "      <td>18</td>\n",
       "      <td>6</td>\n",
       "      <td>5</td>\n",
       "    </tr>\n",
       "    <tr>\n",
       "      <th>4</th>\n",
       "      <td>0</td>\n",
       "      <td>male</td>\n",
       "      <td>22.0</td>\n",
       "      <td>0.75</td>\n",
       "      <td>no</td>\n",
       "      <td>2</td>\n",
       "      <td>17</td>\n",
       "      <td>6</td>\n",
       "      <td>3</td>\n",
       "    </tr>\n",
       "  </tbody>\n",
       "</table>\n",
       "</div>"
      ],
      "text/plain": [
       "   affairs  gender   age  yearsmarried children  religiousness  education  \\\n",
       "0        0    male  37.0         10.00       no              3         18   \n",
       "1        0  female  27.0          4.00       no              4         14   \n",
       "2        0  female  32.0         15.00      yes              1         12   \n",
       "3        0    male  57.0         15.00      yes              5         18   \n",
       "4        0    male  22.0          0.75       no              2         17   \n",
       "\n",
       "   occupation  rating  \n",
       "0           7       4  \n",
       "1           6       4  \n",
       "2           1       4  \n",
       "3           6       5  \n",
       "4           6       3  "
      ]
     },
     "execution_count": 3,
     "metadata": {},
     "output_type": "execute_result"
    }
   ],
   "source": [
    "df = pd.read_csv('Affairs.csv')\n",
    "df.head()"
   ]
  },
  {
   "cell_type": "markdown",
   "metadata": {},
   "source": [
    "### <span style=\"color:#3498DB\">Point: 請先將affairs變數轉為二值型因子'ynaffair'，外遇0次為0，外遇一次以上為1</span>"
   ]
  },
  {
   "cell_type": "code",
   "execution_count": null,
   "metadata": {},
   "outputs": [],
   "source": []
  }
 ],
 "metadata": {
  "kernelspec": {
   "display_name": "Python 3",
   "language": "python",
   "name": "python3"
  },
  "language_info": {
   "codemirror_mode": {
    "name": "ipython",
    "version": 3
   },
   "file_extension": ".py",
   "mimetype": "text/x-python",
   "name": "python",
   "nbconvert_exporter": "python",
   "pygments_lexer": "ipython3",
   "version": "3.8.5"
  }
 },
 "nbformat": 4,
 "nbformat_minor": 5
}
